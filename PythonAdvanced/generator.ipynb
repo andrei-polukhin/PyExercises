{
 "cells": [
  {
   "cell_type": "code",
   "execution_count": 1,
   "metadata": {},
   "outputs": [],
   "source": [
    "def countdown(n):\n",
    "    while n > 0:\n",
    "        yield n\n",
    "        n -= 1"
   ]
  },
  {
   "cell_type": "code",
   "execution_count": 2,
   "metadata": {},
   "outputs": [
    {
     "name": "stdout",
     "output_type": "stream",
     "text": [
      "5\n",
      "4\n",
      "3\n",
      "2\n",
      "1\n"
     ]
    }
   ],
   "source": [
    "f_generator = countdown(5)\n",
    "\n",
    "while True:\n",
    "    try:\n",
    "        print(next(f_generator))\n",
    "    except StopIteration:\n",
    "        break"
   ]
  },
  {
   "cell_type": "code",
   "execution_count": 3,
   "metadata": {},
   "outputs": [],
   "source": [
    "def reverse(data):\n",
    "    index = len(data) - 1\n",
    "    while index >= 0:\n",
    "        yield data[index]\n",
    "        index -= 1"
   ]
  },
  {
   "cell_type": "code",
   "execution_count": 4,
   "metadata": {},
   "outputs": [
    {
     "name": "stdout",
     "output_type": "stream",
     "text": [
      "bananas\n",
      "oranges\n",
      "apples\n"
     ]
    }
   ],
   "source": [
    "rev_generator = reverse([\"apples\", \"oranges\", \"bananas\"])\n",
    "\n",
    "while True:\n",
    "    try:\n",
    "        print(next(rev_generator))\n",
    "    except StopIteration:\n",
    "        break"
   ]
  },
  {
   "cell_type": "code",
   "execution_count": 5,
   "metadata": {},
   "outputs": [],
   "source": [
    "def create_cubes(n):\n",
    "    # Ascending order\n",
    "    start_num = 0\n",
    "    while start_num != n:\n",
    "        yield start_num**3\n",
    "        start_num += 1"
   ]
  },
  {
   "cell_type": "code",
   "execution_count": 6,
   "metadata": {},
   "outputs": [
    {
     "name": "stdout",
     "output_type": "stream",
     "text": [
      "0\n",
      "1\n",
      "8\n",
      "27\n",
      "64\n",
      "125\n",
      "216\n"
     ]
    }
   ],
   "source": [
    "cube_generator = create_cubes(7)\n",
    "\n",
    "while True:\n",
    "    try:\n",
    "        print(next(cube_generator))\n",
    "    except StopIteration:\n",
    "        break"
   ]
  },
  {
   "cell_type": "code",
   "execution_count": 7,
   "metadata": {},
   "outputs": [
    {
     "data": {
      "text/plain": [
       "280"
      ]
     },
     "execution_count": 7,
     "metadata": {},
     "output_type": "execute_result"
    }
   ],
   "source": [
    "# Generator expressions\n",
    "xvec = (10, 20, 30)\n",
    "yvec = (7, 3, 5)\n",
    "\n",
    "sum(x*y for x, y in zip(xvec, yvec))"
   ]
  },
  {
   "cell_type": "code",
   "execution_count": 8,
   "metadata": {},
   "outputs": [],
   "source": [
    "def create_squares(n):\n",
    "    start_num = 0\n",
    "    while start_num != n:\n",
    "        yield start_num**2\n",
    "        start_num += 1"
   ]
  },
  {
   "cell_type": "code",
   "execution_count": 9,
   "metadata": {},
   "outputs": [],
   "source": [
    "from random import randint\n",
    "\n",
    "\n",
    "# Print n random numbers from low to high\n",
    "def show_rand_n_numbers(low, high, n):\n",
    "    start_num = 0\n",
    "    while start_num != n:\n",
    "        yield randint(low, high)\n",
    "        start_num += 1"
   ]
  },
  {
   "cell_type": "code",
   "execution_count": 10,
   "metadata": {},
   "outputs": [
    {
     "data": {
      "text/plain": [
       "[82, 33, 12, 71, 149, 52, 166, 107]"
      ]
     },
     "execution_count": 10,
     "metadata": {},
     "output_type": "execute_result"
    }
   ],
   "source": [
    "rand_generator = show_rand_n_numbers(10, 198, 8)\n",
    "list(rand_generator)"
   ]
  },
  {
   "cell_type": "code",
   "execution_count": null,
   "metadata": {},
   "outputs": [],
   "source": []
  }
 ],
 "metadata": {
  "kernelspec": {
   "display_name": "Python 3",
   "language": "python",
   "name": "python3"
  },
  "language_info": {
   "codemirror_mode": {
    "name": "ipython",
    "version": 3
   },
   "file_extension": ".py",
   "mimetype": "text/x-python",
   "name": "python",
   "nbconvert_exporter": "python",
   "pygments_lexer": "ipython3",
   "version": "3.9.1"
  }
 },
 "nbformat": 4,
 "nbformat_minor": 4
}
